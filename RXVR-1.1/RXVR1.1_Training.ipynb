{
 "cells": [
  {
   "cell_type": "code",
   "execution_count": 1,
   "metadata": {
    "colab": {
     "base_uri": "https://localhost:8080/",
     "height": 1000
    },
    "executionInfo": {
     "elapsed": 252170,
     "status": "ok",
     "timestamp": 1750252109318,
     "user": {
      "displayName": "Vinay Kumar Uppalapati",
      "userId": "16534020191807503877"
     },
     "user_tz": 240
    },
    "id": "W4NAwcWahrNC",
    "outputId": "5965093a-423f-401f-9b0a-e5570988b598",
    "scrolled": true
   },
   "outputs": [
    {
     "name": "stdout",
     "output_type": "stream",
     "text": [
      "Requirement already satisfied: wandb in c:\\users\\aksha\\appdata\\local\\programs\\python\\python310\\lib\\site-packages (0.21.0)\n",
      "Requirement already satisfied: nibabel in c:\\users\\aksha\\appdata\\local\\programs\\python\\python310\\lib\\site-packages (5.3.2)\n",
      "Requirement already satisfied: torchio in c:\\users\\aksha\\appdata\\local\\programs\\python\\python310\\lib\\site-packages (0.20.18)\n",
      "Requirement already satisfied: tqdm in c:\\users\\aksha\\appdata\\local\\programs\\python\\python310\\lib\\site-packages (4.67.1)\n",
      "Requirement already satisfied: typing-extensions<5,>=4.8 in c:\\users\\aksha\\appdata\\local\\programs\\python\\python310\\lib\\site-packages (from wandb) (4.14.1)\n",
      "Requirement already satisfied: packaging in c:\\users\\aksha\\appdata\\local\\programs\\python\\python310\\lib\\site-packages (from wandb) (25.0)\n",
      "Requirement already satisfied: pyyaml in c:\\users\\aksha\\appdata\\local\\programs\\python\\python310\\lib\\site-packages (from wandb) (6.0.2)\n",
      "Requirement already satisfied: requests<3,>=2.0.0 in c:\\users\\aksha\\appdata\\local\\programs\\python\\python310\\lib\\site-packages (from wandb) (2.32.4)\n",
      "Requirement already satisfied: protobuf!=4.21.0,!=5.28.0,<7,>=3.19.0 in c:\\users\\aksha\\appdata\\local\\programs\\python\\python310\\lib\\site-packages (from wandb) (6.31.1)\n",
      "Requirement already satisfied: gitpython!=3.1.29,>=1.0.0 in c:\\users\\aksha\\appdata\\local\\programs\\python\\python310\\lib\\site-packages (from wandb) (3.1.44)\n",
      "Requirement already satisfied: pydantic<3 in c:\\users\\aksha\\appdata\\local\\programs\\python\\python310\\lib\\site-packages (from wandb) (2.11.7)\n",
      "Requirement already satisfied: sentry-sdk>=2.0.0 in c:\\users\\aksha\\appdata\\local\\programs\\python\\python310\\lib\\site-packages (from wandb) (2.33.0)\n",
      "Requirement already satisfied: platformdirs in c:\\users\\aksha\\appdata\\local\\programs\\python\\python310\\lib\\site-packages (from wandb) (4.3.8)\n",
      "Requirement already satisfied: click!=8.0.0,>=7.1 in c:\\users\\aksha\\appdata\\local\\programs\\python\\python310\\lib\\site-packages (from wandb) (8.2.1)\n",
      "Requirement already satisfied: importlib-resources>=5.12 in c:\\users\\aksha\\appdata\\local\\programs\\python\\python310\\lib\\site-packages (from nibabel) (6.5.2)\n",
      "Requirement already satisfied: numpy>=1.22 in c:\\users\\aksha\\appdata\\local\\programs\\python\\python310\\lib\\site-packages (from nibabel) (2.1.2)\n",
      "Requirement already satisfied: rich>=10 in c:\\users\\aksha\\appdata\\local\\programs\\python\\python310\\lib\\site-packages (from torchio) (14.0.0)\n",
      "Requirement already satisfied: einops>=0.3 in c:\\users\\aksha\\appdata\\local\\programs\\python\\python310\\lib\\site-packages (from torchio) (0.8.1)\n",
      "Requirement already satisfied: torch>=1.9 in c:\\users\\aksha\\appdata\\local\\programs\\python\\python310\\lib\\site-packages (from torchio) (2.5.1+cu121)\n",
      "Requirement already satisfied: typer>=0.1 in c:\\users\\aksha\\appdata\\local\\programs\\python\\python310\\lib\\site-packages (from torchio) (0.16.0)\n",
      "Requirement already satisfied: humanize>=0.1 in c:\\users\\aksha\\appdata\\local\\programs\\python\\python310\\lib\\site-packages (from torchio) (4.12.3)\n",
      "Requirement already satisfied: scipy>=1.7 in c:\\users\\aksha\\appdata\\local\\programs\\python\\python310\\lib\\site-packages (from torchio) (1.15.3)\n",
      "Requirement already satisfied: deprecated>=1.2 in c:\\users\\aksha\\appdata\\local\\programs\\python\\python310\\lib\\site-packages (from torchio) (1.2.18)\n",
      "Requirement already satisfied: simpleitk!=2.0.*,!=2.1.1.1,>=1.3 in c:\\users\\aksha\\appdata\\local\\programs\\python\\python310\\lib\\site-packages (from torchio) (2.5.2)\n",
      "Requirement already satisfied: colorama in c:\\users\\aksha\\appdata\\local\\programs\\python\\python310\\lib\\site-packages (from tqdm) (0.4.6)\n",
      "Requirement already satisfied: wrapt<2,>=1.10 in c:\\users\\aksha\\appdata\\local\\programs\\python\\python310\\lib\\site-packages (from deprecated>=1.2->torchio) (1.17.2)\n",
      "Requirement already satisfied: gitdb<5,>=4.0.1 in c:\\users\\aksha\\appdata\\local\\programs\\python\\python310\\lib\\site-packages (from gitpython!=3.1.29,>=1.0.0->wandb) (4.0.12)\n",
      "Requirement already satisfied: annotated-types>=0.6.0 in c:\\users\\aksha\\appdata\\local\\programs\\python\\python310\\lib\\site-packages (from pydantic<3->wandb) (0.7.0)\n",
      "Requirement already satisfied: typing-inspection>=0.4.0 in c:\\users\\aksha\\appdata\\local\\programs\\python\\python310\\lib\\site-packages (from pydantic<3->wandb) (0.4.1)\n",
      "Requirement already satisfied: pydantic-core==2.33.2 in c:\\users\\aksha\\appdata\\local\\programs\\python\\python310\\lib\\site-packages (from pydantic<3->wandb) (2.33.2)\n",
      "Requirement already satisfied: urllib3<3,>=1.21.1 in c:\\users\\aksha\\appdata\\local\\programs\\python\\python310\\lib\\site-packages (from requests<3,>=2.0.0->wandb) (2.5.0)\n",
      "Requirement already satisfied: idna<4,>=2.5 in c:\\users\\aksha\\appdata\\local\\programs\\python\\python310\\lib\\site-packages (from requests<3,>=2.0.0->wandb) (3.10)\n",
      "Requirement already satisfied: certifi>=2017.4.17 in c:\\users\\aksha\\appdata\\local\\programs\\python\\python310\\lib\\site-packages (from requests<3,>=2.0.0->wandb) (2025.7.14)\n",
      "Requirement already satisfied: charset_normalizer<4,>=2 in c:\\users\\aksha\\appdata\\local\\programs\\python\\python310\\lib\\site-packages (from requests<3,>=2.0.0->wandb) (3.4.2)\n",
      "Requirement already satisfied: markdown-it-py>=2.2.0 in c:\\users\\aksha\\appdata\\local\\programs\\python\\python310\\lib\\site-packages (from rich>=10->torchio) (3.0.0)\n",
      "Requirement already satisfied: pygments<3.0.0,>=2.13.0 in c:\\users\\aksha\\appdata\\local\\programs\\python\\python310\\lib\\site-packages (from rich>=10->torchio) (2.19.2)\n",
      "Requirement already satisfied: filelock in c:\\users\\aksha\\appdata\\local\\programs\\python\\python310\\lib\\site-packages (from torch>=1.9->torchio) (3.18.0)\n",
      "Requirement already satisfied: jinja2 in c:\\users\\aksha\\appdata\\local\\programs\\python\\python310\\lib\\site-packages (from torch>=1.9->torchio) (3.1.3)\n",
      "Requirement already satisfied: sympy==1.13.1 in c:\\users\\aksha\\appdata\\local\\programs\\python\\python310\\lib\\site-packages (from torch>=1.9->torchio) (1.13.1)\n",
      "Requirement already satisfied: networkx in c:\\users\\aksha\\appdata\\local\\programs\\python\\python310\\lib\\site-packages (from torch>=1.9->torchio) (3.3)\n",
      "Requirement already satisfied: fsspec in c:\\users\\aksha\\appdata\\local\\programs\\python\\python310\\lib\\site-packages (from torch>=1.9->torchio) (2024.6.1)\n",
      "Requirement already satisfied: mpmath<1.4,>=1.1.0 in c:\\users\\aksha\\appdata\\local\\programs\\python\\python310\\lib\\site-packages (from sympy==1.13.1->torch>=1.9->torchio) (1.3.0)\n",
      "Requirement already satisfied: shellingham>=1.3.0 in c:\\users\\aksha\\appdata\\local\\programs\\python\\python310\\lib\\site-packages (from typer>=0.1->torchio) (1.5.4)\n",
      "Requirement already satisfied: smmap<6,>=3.0.1 in c:\\users\\aksha\\appdata\\local\\programs\\python\\python310\\lib\\site-packages (from gitdb<5,>=4.0.1->gitpython!=3.1.29,>=1.0.0->wandb) (5.0.2)\n",
      "Requirement already satisfied: mdurl~=0.1 in c:\\users\\aksha\\appdata\\local\\programs\\python\\python310\\lib\\site-packages (from markdown-it-py>=2.2.0->rich>=10->torchio) (0.1.2)\n",
      "Requirement already satisfied: MarkupSafe>=2.0 in c:\\users\\aksha\\appdata\\local\\programs\\python\\python310\\lib\\site-packages (from jinja2->torch>=1.9->torchio) (2.1.5)\n"
     ]
    },
    {
     "name": "stderr",
     "output_type": "stream",
     "text": [
      "\n",
      "[notice] A new release of pip is available: 23.0.1 -> 25.1.1\n",
      "[notice] To update, run: python.exe -m pip install --upgrade pip\n"
     ]
    }
   ],
   "source": [
    "# # Clone xvr repo and move into the directory\n",
    "# !git clone https://github.com/eigenvivek/xvr.git\n",
    "# %cd xvr\n",
    "\n",
    "# # Install PyTorch for CUDA 11.8 (Colab T4 GPU)\n",
    "# !pip install --upgrade torch torchvision torchaudio --index-url https://download.pytorch.org/whl/cu118\n",
    "\n",
    "# # Install xvr and dependencies\n",
    "# !pip install git+https://github.com/eigenvivek/xvr.git\n",
    "!pip install wandb nibabel torchio tqdm\n"
   ]
  },
  {
   "cell_type": "code",
   "execution_count": 2,
   "metadata": {},
   "outputs": [
    {
     "name": "stdout",
     "output_type": "stream",
     "text": [
      "Torch CUDA available: True\n",
      "Torch version: 2.5.1+cu121\n",
      "GPU Name: NVIDIA RTX 6000 Ada Generation\n",
      "CUDA Version: 12.1\n",
      "✅ xvr imported successfully\n"
     ]
    }
   ],
   "source": [
    "import torch\n",
    "import torchvision\n",
    "import torchaudio\n",
    "import nibabel as nib\n",
    "import torchio\n",
    "import tqdm\n",
    "import wandb\n",
    "\n",
    "# Check CUDA availability and GPU info\n",
    "print(\"Torch CUDA available:\", torch.cuda.is_available())\n",
    "print(\"Torch version:\", torch.__version__)\n",
    "if torch.cuda.is_available():\n",
    "    print(\"GPU Name:\", torch.cuda.get_device_name(0))\n",
    "    print(\"CUDA Version:\", torch.version.cuda)\n",
    "\n",
    "# Check xvr import\n",
    "try:\n",
    "    import xvr\n",
    "    print(\"✅ xvr imported successfully\")\n",
    "except ImportError as e:\n",
    "    print(\"❌ xvr import failed:\", e)\n"
   ]
  },
  {
   "cell_type": "code",
   "execution_count": 3,
   "metadata": {},
   "outputs": [],
   "source": [
    "import os\n",
    "\n",
    "# Set a value\n",
    "os.environ[\"WANDB_API_KEY\"] = \"524773117955f64051f5e2bd2ecef2642a677a34\""
   ]
  },
  {
   "cell_type": "code",
   "execution_count": 4,
   "metadata": {
    "id": "2gkRIQ68iEvD"
   },
   "outputs": [
    {
     "name": "stderr",
     "output_type": "stream",
     "text": [
      "'sed' is not recognized as an internal or external command,\n",
      "operable program or batch file.\n"
     ]
    }
   ],
   "source": [
    "# Fix wandb login inside xvr training script (do this only once)\n",
    "!sed -i 's/wandb.login(key=os.environ\\[\"WANDB_API_KEY\"\\])/wandb.login()/' /usr/local/lib/python3.*/dist-packages/xvr/commands/train.py"
   ]
  },
  {
   "cell_type": "code",
   "execution_count": 5,
   "metadata": {},
   "outputs": [],
   "source": [
    "import sys\n",
    "import os\n",
    "\n",
    "# Add the path to xvr/src so you can import xvr.*\n",
    "sys.path.append(os.path.join(os.getcwd(), 'xvr', 'src'))\n"
   ]
  },
  {
   "cell_type": "code",
   "execution_count": 6,
   "metadata": {},
   "outputs": [
    {
     "name": "stdout",
     "output_type": "stream",
     "text": [
      "✅ Patched wandb.login() in: C:\\Users\\aksha\\Robossis\\xvr\\src\\xvr\\commands\\train.py\n"
     ]
    }
   ],
   "source": [
    "import sys\n",
    "import os\n",
    "\n",
    "# Step 1: Add xvr/src to Python path so imports work\n",
    "sys.path.append(os.path.join(os.getcwd(), 'xvr', 'src'))\n",
    "\n",
    "# Step 2: Patch wandb.login line in local train.py\n",
    "train_py = os.path.join(os.getcwd(), 'xvr', 'src', 'xvr', 'commands', 'train.py')\n",
    "\n",
    "if os.path.exists(train_py):\n",
    "    with open(train_py, 'r') as f:\n",
    "        lines = f.readlines()\n",
    "\n",
    "    with open(train_py, 'w') as f:\n",
    "        for line in lines:\n",
    "            f.write(line.replace(\n",
    "                'wandb.login(key=os.environ[\"WANDB_API_KEY\"])',\n",
    "                'wandb.login()'\n",
    "            ))\n",
    "\n",
    "    print(f\"✅ Patched wandb.login() in: {train_py}\")\n",
    "else:\n",
    "    print(\"❌ train.py not found. Check the path.\")\n"
   ]
  },
  {
   "cell_type": "code",
   "execution_count": 7,
   "metadata": {
    "colab": {
     "base_uri": "https://localhost:8080/"
    },
    "id": "ZhMMQC5iiMzW",
    "outputId": "33e247b3-ba9a-4f8a-bb1a-aa6c03b47e18"
   },
   "outputs": [],
   "source": [
    "# !xvr train \\\n",
    "#   --inpath \"SE000002.nii\" \\\n",
    "#   --outpath \"output\" \\\n",
    "#   --r1 -45 45 --r2 -45 45 --r3 -15 15 \\\n",
    "#   --tx -200 200 --ty -450 -1000 --tz -200 200 \\\n",
    "#   --sdd 1000.0 \\\n",
    "#   --height 128 \\\n",
    "#   --delx 0.316 \\\n",
    "#   --batch_size 116 \\\n",
    "#   --n_epochs 1000 \\\n",
    "#   --n_batches_per_epoch 100"
   ]
  },
  {
   "cell_type": "code",
   "execution_count": 8,
   "metadata": {},
   "outputs": [
    {
     "name": "stdout",
     "output_type": "stream",
     "text": [
      "Usage: xvr [OPTIONS] COMMAND [ARGS]...\n",
      "\n",
      "  xvr is a PyTorch package for training, fine-tuning, and performing 2D/3D\n",
      "  X-ray to CT/MR registration with pose regression models.\n",
      "\n",
      "Options:\n",
      "  --version  Show the version and exit.\n",
      "  --help     Show this message and exit.\n",
      "\n",
      "Commands:\n",
      "  train     Train a pose regression model from scratch.\n",
      "  restart   Restart model training from a checkpoint.\n",
      "  finetune  Optimize a pose regression model for a specific patient.\n",
      "  register  Use gradient-based optimization to register XRAY to a CT/MR.\n",
      "  animate   Animate the trajectory of iterative optimization.\n",
      "  dcm2nii   Convert a DICOMDIR to a NIfTI file.\n"
     ]
    }
   ],
   "source": [
    "import xvr\n",
    "!xvr --help"
   ]
  },
  {
   "cell_type": "code",
   "execution_count": null,
   "metadata": {
    "id": "mHbrpKSMIs49",
    "scrolled": true
   },
   "outputs": [],
   "source": [
    "import subprocess\n",
    "\n",
    "# Updated Windows-style absolute paths\n",
    "input_path = \"SE000002.nii\"\n",
    "output_path = \"output\"\n",
    "\n",
    "command = [\n",
    "    \"xvr\", \"train\",\n",
    "    \"--inpath\", input_path,\n",
    "    \"--outpath\", output_path,\n",
    "    \"--r1\", \"-45\", \"45\",\n",
    "    \"--r2\", \"-45\", \"45\",\n",
    "    \"--r3\", \"-15\", \"15\",\n",
    "    \"--tx\", \"-200\", \"200\",\n",
    "    \"--ty\", \"-450\", \"-1000\",\n",
    "    \"--tz\", \"-200\", \"200\",\n",
    "    \"--sdd\", \"1000.0000000000000\",\n",
    "    \"--height\", \"128\",\n",
    "    \"--delx\", \"2.42\",\n",
    "    \"--batch_size\", \"116\",\n",
    "    \"--n_epochs\", \"1000\",\n",
    "    \"--n_batches_per_epoch\", \"100\",\n",
    "    \"--project\", \"RXVR1.1\"\n",
    "]\n",
    "\n",
    "# Run the command and print output live\n",
    "process = subprocess.Popen(command, stdout=subprocess.PIPE, stderr=subprocess.STDOUT, text=True)\n",
    "\n",
    "for line in process.stdout:\n",
    "    print(line, end='')  # print output as it streams\n"
   ]
  },
  {
   "cell_type": "code",
   "execution_count": null,
   "metadata": {},
   "outputs": [],
   "source": []
  },
  {
   "cell_type": "code",
   "execution_count": null,
   "metadata": {},
   "outputs": [],
   "source": [
    "process.kill()\n",
    "print(\"✅ Training process terminated.\")\n",
    "\n",
    "import torch\n",
    "import gc\n",
    "\n",
    "# Garbage collect unreferenced objects\n",
    "gc.collect()\n",
    "\n",
    "# Clear unused memory from PyTorch's CUDA allocator\n",
    "torch.cuda.empty_cache()\n",
    "\n",
    "print(\"✅ GPU cache cleared.\")\n"
   ]
  },
  {
   "cell_type": "code",
   "execution_count": null,
   "metadata": {
    "id": "R7LSCG19u1QU"
   },
   "outputs": [],
   "source": [
    "!xvr train --help"
   ]
  },
  {
   "cell_type": "code",
   "execution_count": null,
   "metadata": {
    "id": "M1dDMEMHi3uq"
   },
   "outputs": [],
   "source": [
    "!xvr animate \\\n",
    "  --inpath \"/content/drive/MyDrive/SE000002.nii\" \\\n",
    "  --checkpoint \"/content/drive/MyDrive/Trained Registration model/xvr_0125.pth\" \\\n",
    "  --outpath \"/content/drive/MyDrive/Trained Registration model\" \\\n",
    "  --height 128 --delx 0.5"
   ]
  }
 ],
 "metadata": {
  "colab": {
   "provenance": []
  },
  "kernelspec": {
   "display_name": "Python 3 (ipykernel)",
   "language": "python",
   "name": "python3"
  },
  "language_info": {
   "codemirror_mode": {
    "name": "ipython",
    "version": 3
   },
   "file_extension": ".py",
   "mimetype": "text/x-python",
   "name": "python",
   "nbconvert_exporter": "python",
   "pygments_lexer": "ipython3",
   "version": "3.10.11"
  }
 },
 "nbformat": 4,
 "nbformat_minor": 4
}
